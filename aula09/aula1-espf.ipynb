{
 "cells": [
  {
   "cell_type": "code",
   "execution_count": 1,
   "metadata": {},
   "outputs": [
    {
     "name": "stdout",
     "output_type": "stream",
     "text": [
      "1\n",
      "3\n",
      "5\n",
      "7\n",
      "9\n"
     ]
    }
   ],
   "source": [
    "cont = 0\n",
    "\n",
    "while cont < 10:\n",
    "    cont+=1\n",
    "    if cont % 2 == 0:\n",
    "        continue\n",
    "    print(cont)\n",
    "\n"
   ]
  },
  {
   "cell_type": "code",
   "execution_count": 2,
   "metadata": {},
   "outputs": [
    {
     "name": "stdout",
     "output_type": "stream",
     "text": [
      "A letra foi encontrada\n"
     ]
    }
   ],
   "source": [
    "frase = input(\"Insira uma palavra\")\n",
    "i = 0\n",
    "encontrou = False\n",
    "\n",
    "while i < len(frase):\n",
    "    if frase[i] == 'e':\n",
    "        encontrou = True\n",
    "        break\n",
    "    i += 1 \n",
    "\n",
    "if encontrou :\n",
    "    print(\"A letra foi encontrada\")\n",
    "else:\n",
    "    print(\"A letra não foi encontrada\")"
   ]
  },
  {
   "cell_type": "code",
   "execution_count": 6,
   "metadata": {},
   "outputs": [
    {
     "name": "stdout",
     "output_type": "stream",
     "text": [
      "************ Exercicio 1 ************\n",
      "4\n",
      "************ Exercicio 2 ************\n",
      "e\n",
      "************ Exercicio 3 ************\n",
      "1\n",
      "2\n",
      "3\n",
      "4\n",
      "5\n",
      "6\n",
      "7\n",
      "8\n",
      "************ Exercicio 4 ************\n",
      "4.1: \n",
      "1\n",
      "2\n",
      "3\n",
      "4\n",
      "5\n",
      "6\n",
      "7\n",
      "8\n",
      "9\n",
      "10\n",
      "11\n",
      "12\n",
      "13\n",
      "14\n",
      "15\n",
      "4.2: \n"
     ]
    }
   ],
   "source": [
    "# Exercícios\n",
    "\n",
    "''' 1. Escreva um programa que pede ao usuário para digitar uma palavra e depois imprima o numero de caracteres\n",
    "digitado pelo usuário'''\n",
    "print(\"************ Exercicio 1 ************\")\n",
    "palavra = input('Digite uma palavra:')\n",
    "print(f\"O comprimento da palavra é: {len(palavra)}\")\n",
    "\n",
    "#2. Escreva um programa que pede ao usuário para digitar o nome e depois imprima ultimo caracter\n",
    "print(\"************ Exercicio 2 ************\")\n",
    "nome = input('Digite seu nome:')\n",
    "print(f\"A última letra é: {nome[len(nome) - 1]}\")\n",
    "\n",
    "''' 3. Escreva um programa que pede ao usuário para digitar um numero e, em seguida todos os número inteiro\n",
    "do 1 até o número digitado'''\n",
    "print(\"************ Exercicio 3 ************\")\n",
    "numero = int(input('Digite um numero:'))\n",
    "cont = 1\n",
    "while cont <= numero:\n",
    "    print(cont)\n",
    "    cont+=1\n",
    "\n",
    "''' 4. Escreva um programa que imprima numeros de 1 a 15, depois escreva um programa que mostre um \n",
    "decrementador de 15 a 1'''\n",
    "print(\"************ Exercicio 4 ************\")\n",
    "print(\"4.1: \")\n",
    "i = 1\n",
    "while i <= 15:\n",
    "    print(i)\n",
    "    i+=1\n",
    "\n",
    "print(\"4.2: \")\n",
    "while i >= 1:\n",
    "    print(i)\n",
    "    i-=1\n"
   ]
  },
  {
   "cell_type": "code",
   "execution_count": 3,
   "metadata": {},
   "outputs": [
    {
     "name": "stdout",
     "output_type": "stream",
     "text": [
      "************ Exercicio 5 ************\n",
      "Escolha uma opção de código:\n",
      "(1) -> Usando condição de TRUE == TRUE no while e break\n",
      "(2) -> Usando variavel que muda o valor e encerra o while\n",
      "(3) -> Cancelar[Encerrar programa]\n",
      "Programa encerrado\n"
     ]
    }
   ],
   "source": [
    "print(\"************ Exercicio 5 ************\")\n",
    "\n",
    "again = True\n",
    "\n",
    "while again == True:\n",
    "    print(\"Escolha uma opção de código:\")\n",
    "    print(\"(1) -> Usando condição de TRUE == TRUE no while e break\")\n",
    "    print(\"(2) -> Usando variavel que muda o valor e encerra o while\")\n",
    "    print(\"(3) -> Cancelar[Encerrar programa]\")\n",
    "    option = int(input())\n",
    "\n",
    "    if option == 1:\n",
    "        again = False\n",
    "        while True == True:\n",
    "            temperaturaF = float(input(\"Digite a temperatura em Fahrenheit (Para encerrar digite '0'): \"))\n",
    "            if temperaturaF == 0.0:\n",
    "                break\n",
    "            print(f\"Fahrenheit: {temperaturaF}\")\n",
    "            print(f\"Celsius: {(temperaturaF - 32) * 5/9}\")\n",
    "    elif option == 2:\n",
    "        again = False\n",
    "        status = True\n",
    "        while status == True:\n",
    "            temperaturaF = float(input(\"Digite a temperatura em Fahrenheit (Para encerrar digite '0'): \"))\n",
    "            if temperaturaF == 0.0:\n",
    "                status = False\n",
    "            else:\n",
    "                print(f\"Fahrenheit: {temperaturaF}\")\n",
    "                print(f\"Celsius: {(temperaturaF - 32) * 5/9}\")\n",
    "    elif option == 3:\n",
    "        again = False\n",
    "    else:\n",
    "        print(\"Opção inválida, digite novamente!\")\n",
    "print(\"Programa encerrado\")\n"
   ]
  },
  {
   "cell_type": "code",
   "execution_count": 11,
   "metadata": {},
   "outputs": [
    {
     "name": "stdout",
     "output_type": "stream",
     "text": [
      "************ Exercicio 1 ************\n",
      "Quadrado de 1 é 1\n",
      "Quadrado de 2 é 4\n",
      "Quadrado de 3 é 9\n",
      "Quadrado de 4 é 16\n",
      "Quadrado de 5 é 25\n",
      "************ Exercicio 2 ************\n",
      "Quadrado de 1 mais 1 é 2\n",
      "Quadrado de 2 mais 2 é 6\n",
      "Quadrado de 3 mais 3 é 12\n",
      "Quadrado de 4 mais 4 é 20\n",
      "Quadrado de 5 mais 5 é 30\n",
      "************ Exercicio 3 ************\n",
      "A letra t aparece: 2 vezes na palavra teste.\n",
      "************ Exercicio 4 ************\n",
      "Números: [10, 12, 14, 85, 73]\n",
      "A média é de: 38.8\n"
     ]
    }
   ],
   "source": [
    "# Exercícios de FOR\n",
    "\n",
    "#1.Crie um programa para elevar ao quadrado número com range de 1 até 6\n",
    "#2.Crie um programa para somar ao quadrado número com range de 1 até 6 \n",
    "#3.Crie um programa para contar quantas vezes uma letra especifica aparece em uma palavra \n",
    "#4.Crie um programa para calcular a média de um conjunto de números fornecidos pelo usuário\n",
    "\n",
    "print(\"************ Exercicio 1 ************\")\n",
    "for i in range(1, 6):\n",
    "    print(f\"Quadrado de {i} é {i**2}\")\n",
    "\n",
    "print(\"************ Exercicio 2 ************\")\n",
    "soma = 0\n",
    "for i in range(1, 6):\n",
    "    soma += i**2\n",
    "print(f\"O final da soma ficou: {soma}\")\n",
    "\n",
    "print(\"************ Exercicio 3 ************\")\n",
    "palavra = str(input(\"Digite uma palavra: \")).lower()\n",
    "letra = str(input(\"Digite a letra que quer contar na palavra: \")).lower()\n",
    "cont = 0\n",
    "for l in palavra:\n",
    "    if letra == l:\n",
    "        cont+=1\n",
    "print(f\"A letra {letra} aparece: {cont} vezes na palavra {palavra}.\")\n",
    "\n",
    "print(\"************ Exercicio 4 ************\")\n",
    "number = int(input(\"Digite um número: \"))\n",
    "list = []\n",
    "\n",
    "while number != 0:\n",
    "    list.append(number)\n",
    "    number = int(input(\"Digite um número: \"))\n",
    "\n",
    "media = 0\n",
    "for n in list:\n",
    "    media = media + n\n",
    "\n",
    "print(f\"Números: {list}\")\n",
    "print(f\"A média é de: {media / len(list)}\")\n"
   ]
  },
  {
   "cell_type": "code",
   "execution_count": null,
   "metadata": {},
   "outputs": [],
   "source": [
    "lista_carros = [\"ford\", \"mustang\", \"volvo\", \"fiat\", \"jaguar\"]\n",
    "lista_numeros = [10, 20, 30, 40, 50]\n",
    "lista_falhas = [100, 200, 500, 300, 100]\n",
    "\n",
    "# 1.Crie um programa para mostrar a quantidade de itens na lista carros.\n",
    "# 2.Crie um programa para mostrar a quantidade de caracteres para cada item da lista carros.\n",
    "# 3.Crie um programa para elevar os números da lista números ao cubo e calcule a média\n",
    "# da soma destes valores.\n",
    "# 4.Crie um programa para mostrar a quantidade total de falhas.\n",
    "# 5.Divida cada elemento da lista falhas por 2 e calcule a média da lista falhas.\n",
    "\n",
    "print(\"************ Exercicio 1 ************\")\n",
    "print(f\"Quantidade de carros é de {len(lista_carros)}\")\n",
    "\n",
    "print(\"************ Exercicio 2 ************\")\n",
    "for car in lista_carros:\n",
    "    print(f\"O carro {car} tem {len(car)} caracteres\")\n",
    "\n",
    "print(\"************ Exercicio 2 ************\")\n",
    "soma = 0\n",
    "for num in lista_numeros:\n",
    "    soma+=num**3\n",
    "\n",
    "print(f\"A média é de {soma / len(lista_numeros)}\")"
   ]
  }
 ],
 "metadata": {
  "kernelspec": {
   "display_name": "Python 3",
   "language": "python",
   "name": "python3"
  },
  "language_info": {
   "codemirror_mode": {
    "name": "ipython",
    "version": 3
   },
   "file_extension": ".py",
   "mimetype": "text/x-python",
   "name": "python",
   "nbconvert_exporter": "python",
   "pygments_lexer": "ipython3",
   "version": "3.11.4"
  },
  "orig_nbformat": 4
 },
 "nbformat": 4,
 "nbformat_minor": 2
}
