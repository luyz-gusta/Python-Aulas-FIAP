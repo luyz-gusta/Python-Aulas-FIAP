{
 "cells": [
  {
   "cell_type": "code",
   "execution_count": 6,
   "metadata": {},
   "outputs": [
    {
     "name": "stdout",
     "output_type": "stream",
     "text": [
      "Lista de massa: [1500000, 3000000, 4500000, 6000000, 7500000, 9000000]\n"
     ]
    }
   ],
   "source": [
    "# 1.Crie um programa que retorne uma lista de valores de massa, dado que a velocidade da luz é c = 300000 km/s e a lista de força 500, 1000, 1500, 2000, 2500, 3000 kN respectivamente. Utilize uma estrutura de repetição com for e append.\n",
    "\n",
    "lista_massa = []\n",
    "lista_forca = [500, 1000, 1500, 2000, 2500, 3000]\n",
    "\n",
    "for cont in range (0,len(lista_forca)):\n",
    "    massa = 3000 * lista_forca[cont]\n",
    "    lista_massa.append(massa)\n",
    "print (f'Lista de massa: {lista_massa}')\n"
   ]
  },
  {
   "cell_type": "code",
   "execution_count": 1,
   "metadata": {},
   "outputs": [
    {
     "name": "stdout",
     "output_type": "stream",
     "text": [
      "['', 't1', 't2', 't3']\n",
      "['t1', 't2', 't3', 't4']\n"
     ]
    }
   ],
   "source": [
    "#2.Crie um programa para solicitar quatro nomes e cpfs. Utilize listas, contador, append e retorne duas listas chamadas nomes e cpfs contendo as respectivas informações. Utilize estrutura de repetição while.\n",
    "\n",
    "lista_nomes = []\n",
    "lista_cpfs = []\n",
    "cont = 1\n",
    "\n",
    "while cont <= 4:\n",
    "    nome = input(f'Digite o nome{cont}:')\n",
    "    cpf = input(f'Digite o cpf{cont}:')\n",
    "\n",
    "    lista_nomes.append(nome)\n",
    "    lista_cpfs.append(cpf)\n",
    "    cont+=1 \n",
    "\n",
    "print(lista_nomes)\n",
    "print(lista_cpfs)"
   ]
  },
  {
   "cell_type": "code",
   "execution_count": 4,
   "metadata": {},
   "outputs": [
    {
     "name": "stdout",
     "output_type": "stream",
     "text": [
      "Salarios com 10% de desconto: [1620.0]\n",
      "Salarios com 20% de desconto: [2000.0, 2560.0]\n",
      "Salarios com 30% de desconto: [2940.0, 3500.0]\n"
     ]
    }
   ],
   "source": [
    "#3.Cálculo de Salário Líquido - Em uma empresa, os funcionários têm seus salários calculados de acordo com as seguintes regras:\n",
    "# - Se o salário for até R$ 2.000,00, será aplicado um desconto de 10%;\n",
    "# - Se o salário for superior a R$ 2.000,00 e até R$ 4.000,00, será aplicado um desconto de 20%;\n",
    "# - Se o salário for superior a R$ 4.000,00, será aplicado um desconto de 30%.\n",
    "  \n",
    "# Escreva um programa em Python para retornar os respectivos descontos no salário dos funcionários de acordo com as regras descritas anteriormente. Retorne os salários líquidos de cada um, considerando os descontos aplicados. Armazene os salários líquidos em três listas diferentes, salario_10, salario_20 e salario_30, para cada respectiva faixa de desconto. Considere a lista salarios = [1800, 2500, 3200, 4200, 5000].\n",
    "\n",
    "lista_salarios = [1800, 2500, 3200, 4200, 5000]\n",
    "\n",
    "salario_10 = []\n",
    "salario_20 = []\n",
    "salario_30 = []\n",
    "\n",
    "for valor in lista_salarios:\n",
    "    salario = 0\n",
    "\n",
    "    if valor <= 2000:\n",
    "        salario = valor * 0.9\n",
    "        salario_10.append(salario)\n",
    "    elif valor > 2000 and valor <= 4000:\n",
    "        salario = valor * 0.8\n",
    "        salario_20.append(salario)\n",
    "    else:\n",
    "        salario = valor * 0.7\n",
    "        salario_30.append(salario)\n",
    "\n",
    "print(f'Salarios com 10% de desconto: {salario_10}')\n",
    "print(f'Salarios com 20% de desconto: {salario_20}')\n",
    "print(f'Salarios com 30% de desconto: {salario_30}')\n"
   ]
  },
  {
   "cell_type": "code",
   "execution_count": 3,
   "metadata": {},
   "outputs": [
    {
     "name": "stdout",
     "output_type": "stream",
     "text": [
      "Valores usuario 1: [10, 20, 30, 40, 50]\n",
      "Valores usuario 2: [10, 2, 10, 20, 20]\n",
      "O usuario 1 gastou R$150,00 com média de R$30.0 por produto\n",
      "O usuario 2 gastou R$62,00 com média de R$12.4 por produto\n"
     ]
    }
   ],
   "source": [
    "#4.Programa de Compras em uma Loja de Jogos - Neste programa, você será solicitado a inserir os valores de 5 produtos diferentes para dois usuários em uma loja de jogos. O programa calculará e exibirá o valor total das compras de cada usuário, bem como o valor médio das compras de cada um.\n",
    "\n",
    "usuario1 = []\n",
    "usuario2 = []\n",
    "\n",
    "contador1 = 1\n",
    "contador2 = 1\n",
    "\n",
    "somaUsuario1 = 0\n",
    "somaUsuario2 = 0\n",
    "\n",
    "while contador1 <= 5: \n",
    "    valor = int(input(f'Usuario1. Digite o valor do produto {contador1}'))\n",
    "    usuario1.append(valor)\n",
    "    somaUsuario1 += valor\n",
    "    contador1+=1\n",
    "\n",
    "while contador2 <= 5: \n",
    "    valor = int(input(f'Usuario2. Digite o valor do produto {contador2}'))\n",
    "    usuario2.append(valor)\n",
    "    somaUsuario2 += valor\n",
    "    contador2+=1\n",
    "\n",
    "print(f'Valores usuario 1: {usuario1}')\n",
    "print(f'Valores usuario 2: {usuario2}')\n",
    "print(f'O usuario 1 gastou R${somaUsuario1},00 com média de R${somaUsuario1 / 5} por produto')\n",
    "print(f'O usuario 2 gastou R${somaUsuario2},00 com média de R${somaUsuario2 / 5} por produto')"
   ]
  },
  {
   "cell_type": "code",
   "execution_count": 10,
   "metadata": {},
   "outputs": [
    {
     "name": "stdout",
     "output_type": "stream",
     "text": [
      "O usuário digitou um total 0 vezes o produto notebook.\n",
      "O usuário digitou um total 0 vezes o produto ssd.\n",
      "O usuário digitou um total 2 vezes o produto mouse.\n",
      "O usuário digitou um total 1 vezes o produto teclado.\n",
      "O usuário digitou um total 0 vezes o produto monitor.\n"
     ]
    }
   ],
   "source": [
    "#5.Você está criando um programa para registrar as compras em uma loja de computadores. Primeiro, você solicitará ao usuário que insira 5 produtos adquiridos. Em seguida, usando uma estrutura de repetição com while, você criará uma lista e inserirá esses produtos nela.\n",
    "  \n",
    "# lista_produtos = [‘notebook', ‘ssd', ‘mouse', ‘teclado', ‘monitor']\n",
    "  \n",
    "# Depois, você verificará se os produtos digitados estão dentro da lista de produtos da loja. Para isso, você usará uma estrutura de repetição for. Em seguida, você contará a quantidade de cada tipo de produto digitado pelo usuário. \n",
    "\n",
    "usuario = []\n",
    "lista_produtos = ['notebook', 'ssd', 'mouse', 'teclado', 'monitor']\n",
    "contador = 1\n",
    "\n",
    "while contador <= 5: \n",
    "    valor = input(f'Usuario, Digite o do produto {contador}:')\n",
    "    usuario.append(valor)\n",
    "    contador+=1\n",
    "\n",
    "quantidade = [0, 0, 0, 0, 0]\n",
    "for cont in range(0, len(lista_produtos)):\n",
    "    for verProd in usuario:\n",
    "        if verProd == lista_produtos[cont]:\n",
    "            quantidade[cont] += 1\n",
    "    print(f'O usuário digitou um total {quantidade[cont]} vezes o produto {lista_produtos[cont]}.')"
   ]
  }
 ],
 "metadata": {
  "kernelspec": {
   "display_name": "Python 3",
   "language": "python",
   "name": "python3"
  },
  "language_info": {
   "codemirror_mode": {
    "name": "ipython",
    "version": 3
   },
   "file_extension": ".py",
   "mimetype": "text/x-python",
   "name": "python",
   "nbconvert_exporter": "python",
   "pygments_lexer": "ipython3",
   "version": "3.11.4"
  },
  "orig_nbformat": 4
 },
 "nbformat": 4,
 "nbformat_minor": 2
}
