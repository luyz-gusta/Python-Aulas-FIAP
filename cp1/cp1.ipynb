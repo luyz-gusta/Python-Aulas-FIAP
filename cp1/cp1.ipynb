{
 "cells": [
  {
   "cell_type": "code",
   "execution_count": 1,
   "metadata": {},
   "outputs": [
    {
     "name": "stdout",
     "output_type": "stream",
     "text": [
      "Palavra incorreta, resam 2 tentativas\n",
      "Palavra incorreta, resam 1 tentativas\n",
      "Parabéns! Você acertou a palavra.\n"
     ]
    }
   ],
   "source": [
    "'''\n",
    "1.Neste jogo, o usuário 1 escolhe a palavra a ser adivinhada. \n",
    "O usuário 2 tem três tentativas para adivinhar a palavra. \n",
    "Se acertar, o programa imprime \"Parabéns! Você acertou a palavra:\". \n",
    "Caso contrário, o programa informa quantas tentativas restantes o \n",
    "usuário 2 tem. Se o usuário 2 não adivinhar corretamente, o \n",
    "programa informa que ele perdeu\n",
    "'''\n",
    "\n",
    "print(\"*************** Exercício 1 ***************\")\n",
    "\n",
    "palavra_user1 = str(input(\"Digite uma palavra: \"))\n",
    "palavra_user2 = str(input(\"Digite a palavra ser encontrada: \"))\n",
    "\n",
    "if palavra_user1.lower() == palavra_user2.lower():\n",
    "    print(\"Parabéns! Você acertou a palavra.\")\n",
    "else:\n",
    "    print(\"Palavra incorreta, resam 2 tentativas\")\n",
    "    palavra_user2 = str(input(\"Digite a palavra ser encontrada: \"))\n",
    "\n",
    "    if palavra_user1.lower() == palavra_user2.lower():\n",
    "        print(\"Parabéns! Você acertou a palavra.\")\n",
    "    else:\n",
    "        print(\"Palavra incorreta, resam 1 tentativas\")\n",
    "        palavra_user2 = str(input(\"Digite a palavra ser encontrada: \"))\n",
    "\n",
    "        if palavra_user1.lower() == palavra_user2.lower():\n",
    "            print(\"Parabéns! Você acertou a palavra.\")\n",
    "        else:\n",
    "            print(\"Palavra incorreta, você perdeu!\")\n"
   ]
  },
  {
   "cell_type": "code",
   "execution_count": 3,
   "metadata": {},
   "outputs": [
    {
     "name": "stdout",
     "output_type": "stream",
     "text": [
      "Produtos:\n",
      " 1°30.0\n",
      " 2°90.0\n",
      " 3°126.0\n",
      " 4°229.0\n"
     ]
    }
   ],
   "source": [
    "''' \n",
    "2. Crie um programa que solicite a quantidade de 4 produtos e \n",
    "seus respectivos valores. Em seguida, exiba os valores da relação \n",
    "preço x quantidade dos produtos em ordem crescente. Utilize apenas \n",
    "os conceitos apresentados em sala de aula.\n",
    "'''\n",
    "\n",
    "print(\"*************** Exercício 2 ***************\")\n",
    "\n",
    "valor_produto_1 = float(input(\"Digite o valor do produto 1: \"))\n",
    "qntde_produto_1 = int(input(\"Digite a quantidade do produto 1: \"))\n",
    "valor_total_1 = float(valor_produto_1 * qntde_produto_1)\n",
    "\n",
    "valor_produto_2 = float(input(\"Digite o valor do produto 2: \"))\n",
    "qntde_produto_2 = int(input(\"Digite a quantidade do produto 2: \"))\n",
    "valor_total_2 = float(valor_produto_2 * qntde_produto_2)\n",
    "\n",
    "valor_produto_3 = float(input(\"Digite o valor do produto 3: \"))\n",
    "qntde_produto_3 = int(input(\"Digite a quantidade do produto 3: \"))\n",
    "valor_total_3 = float(valor_produto_3 * qntde_produto_3)\n",
    "\n",
    "valor_produto_4 = float(input(\"Digite o valor do produto 4: \"))\n",
    "qntde_produto_4 = int(input(\"Digite a quantidade do produto 4: \"))\n",
    "valor_total_4 = float(valor_produto_4 * qntde_produto_4)\n",
    "\n",
    "lista = [valor_total_1, valor_total_2, valor_total_3, valor_total_4]\n",
    "lista.sort()\n",
    "\n",
    "print(f\"Produtos:\\n 1° {lista[0]}\\n 2° {lista[1]}\\n 3° {lista[2]}\\n 4° {lista[3]}\")"
   ]
  },
  {
   "cell_type": "code",
   "execution_count": 7,
   "metadata": {},
   "outputs": [
    {
     "name": "stdout",
     "output_type": "stream",
     "text": [
      "*************** Exercício 3 ***************\n",
      "Algum dado está incorreto, restam somente uma tentiva\n",
      "Acesso negado! Seu usuário agora está bloqueado.\n"
     ]
    }
   ],
   "source": [
    "'''\n",
    "3. Desenvolva um programa que permita ao usuário inserir seu nome de usuário, \n",
    "senha e uma palavra-chave. Em seguida, crie uma lógica para verificar o nome \n",
    "de usuário, senha e palavra-chave. Caso estejam corretos, exiba \n",
    "\"Acesso permitido\". Caso haja duas falhas de entrada, informe que o usuário \n",
    "será bloqueado.\n",
    "'''\n",
    "\n",
    "print(\"*************** Exercício 3 ***************\")\n",
    "\n",
    "vef_user = \"luiz\"\n",
    "vef_password = \"5180\"\n",
    "vef_key = \"elvis\"\n",
    "\n",
    "user = str(input(\"Digite o seu usuário:\"))\n",
    "password = str(input(\"Digite a sua senha:\"))\n",
    "key = str(input(\"Digite a sua palavra-chave:\"))\n",
    "\n",
    "if user == vef_user and password == vef_password and key == vef_key:\n",
    "    print(\"Acesso permitido\")\n",
    "else: \n",
    "    print(\"Algum dado está incorreto, restam somente uma tentiva\")\n",
    "\n",
    "    user = str(input(\"Digite o seu usuário:\"))\n",
    "    password = str(input(\"Digite a sua senha:\"))\n",
    "    key = str(input(\"Digite a sua palavra-chave:\"))\n",
    "\n",
    "    if user == vef_user and password == vef_password and key == vef_key:\n",
    "        print(\"Acesso permitido\")\n",
    "    else:\n",
    "        print(\"Acesso negado! Seu usuário agora está bloqueado.\")"
   ]
  },
  {
   "cell_type": "code",
   "execution_count": 12,
   "metadata": {},
   "outputs": [
    {
     "name": "stdout",
     "output_type": "stream",
     "text": [
      "*************** Exercicio 4 ***************\n",
      "Valores Convertidos de R$120.0:\n",
      "Valor em dolar: 24.0\n",
      "Valor em euro: 22.22222222222222\n",
      "Valor em franco suiço: 21.62162162162162\n"
     ]
    }
   ],
   "source": [
    "'''\n",
    "4.Desenvolva um conversor de moeda que permita ao usuário inserir a moeda \n",
    "que deseja converter. Em seguida, crie uma estrutura para converter a moeda \n",
    "escolhida para três moedas selecionadas pelo usuário. Você definirá a relação \n",
    "de conversão das moedas\n",
    "'''\n",
    "\n",
    "print(\"*************** Exercicio 4 ***************\")\n",
    "valor_real = float(input(\"Digite o valor que deseja converter(em reais): \"))\n",
    "\n",
    "valor_dolar = float(valor_real / 5)\n",
    "valor_euro = float(valor_real / 5.40)\n",
    "valor_franco_suico = float(valor_real / 5.55)\n",
    "\n",
    "print(f\"Valores Convertidos de R${valor_real}:\")\n",
    "print(f\"Valor em dolar: {valor_dolar}\")\n",
    "print(f\"Valor em euro: {valor_euro}\")\n",
    "print(f\"Valor em franco suiço: {valor_franco_suico}\")\n"
   ]
  },
  {
   "cell_type": "code",
   "execution_count": 9,
   "metadata": {},
   "outputs": [
    {
     "name": "stdout",
     "output_type": "stream",
     "text": [
      "*************** Exercicio 5 ***************\n",
      "Valores:\n",
      "Valor1 - 10 - 10%\n",
      "Valor2 - 20 - 20%\n",
      "Valor3 - 35 - 30%\n",
      "Valor4 - 45 - 40%\n",
      "Média final: 33.5\n"
     ]
    }
   ],
   "source": [
    "'''\n",
    "5. Crie um programa para calcular a média ponderada de 4 valores de vendas \n",
    "com entrada de dados pelo usuário. Em seguida, exiba a porcentagem de cada \n",
    "valor de venda em relação à média ponderada\n",
    "'''\n",
    "\n",
    "print(\"*************** Exercicio 5 ***************\")\n",
    "valor1 = int(input(\"Digite o valor 1 (10%): \"))\n",
    "valor2 = int(input(\"Digite o valor 2 (20%): \"))\n",
    "valor3 = int(input(\"Digite o valor 3 (30%): \"))\n",
    "valor4 = int(input(\"Digite o valor 4 (40%): \"))\n",
    "\n",
    "valor_total = (valor1 * 1) + (valor2 * 2) + (valor3 * 3) + (valor4 * 4)\n",
    "media = valor_total / 10\n",
    "\n",
    "print(\"Valores:\")\n",
    "print(f\"Valor1 - {valor1} - 10%\")\n",
    "print(f\"Valor2 - {valor2} - 20%\")\n",
    "print(f\"Valor3 - {valor3} - 30%\")\n",
    "print(f\"Valor4 - {valor4} - 40%\")\n",
    "print(f\"Média final: {media}\")"
   ]
  },
  {
   "cell_type": "code",
   "execution_count": 8,
   "metadata": {},
   "outputs": [
    {
     "name": "stdout",
     "output_type": "stream",
     "text": [
      "*************** Exercicio 6 ***************\n",
      "Precisa verificar os requisitos de visto para entrar no país\n"
     ]
    }
   ],
   "source": [
    "''' \n",
    "6.Você é responsável pela verificação dos passaportes dos passageiros que \n",
    "chegam ao aeroporto internacional. Desenvolva um programa que permita a \n",
    "entrada dos dados do passageiro (nome, nacionalidade e número do passaporte) \n",
    "e verifique se o passaporte é americano, britânico, alemão ou brasileiro. \n",
    "Se o passageiro for brasileiro, exiba uma mensagem de boas-vindas e informe \n",
    "que não é necessário visto para entrada no país. Caso contrário, exiba uma \n",
    "mensagem informando que o passageiro precisa verificar os requisitos de visto \n",
    "para entrada no país.\n",
    "'''\n",
    "\n",
    "print(\"*************** Exercicio 6 ***************\")\n",
    "nome = str(input(\"Digite o nome:\"))\n",
    "nacionalidade = str(input(\"Digite a nacionalidade:\"))\n",
    "passaporte = str(input(\"Digite o do passaporte:\"))\n",
    "\n",
    "if nacionalidade == \"BR\":\n",
    "    print(f\"Bem vindo {nome}! Não é necessário visto para a entrada no país\")\n",
    "else:\n",
    "    print(f\"{nome} precisa verificar os requisitos de visto para entrar no país\")"
   ]
  }
 ],
 "metadata": {
  "kernelspec": {
   "display_name": "Python 3",
   "language": "python",
   "name": "python3"
  },
  "language_info": {
   "codemirror_mode": {
    "name": "ipython",
    "version": 3
   },
   "file_extension": ".py",
   "mimetype": "text/x-python",
   "name": "python",
   "nbconvert_exporter": "python",
   "pygments_lexer": "ipython3",
   "version": "3.11.4"
  },
  "orig_nbformat": 4
 },
 "nbformat": 4,
 "nbformat_minor": 2
}
